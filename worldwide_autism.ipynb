{
 "cells": [
  {
   "cell_type": "markdown",
   "metadata": {},
   "source": [
    "# Worldwide Autism Burden"
   ]
  },
  {
   "cell_type": "code",
   "execution_count": 1,
   "metadata": {},
   "outputs": [
    {
     "name": "stdout",
     "output_type": "stream",
     "text": [
      "Intel MKL WARNING: Support of Intel(R) Streaming SIMD Extensions 4.2 (Intel(R) SSE4.2) enabled only processors has been deprecated. Intel oneAPI Math Kernel Library 2025.0 will require Intel(R) Advanced Vector Extensions (Intel(R) AVX) instructions.\n",
      "Intel MKL WARNING: Support of Intel(R) Streaming SIMD Extensions 4.2 (Intel(R) SSE4.2) enabled only processors has been deprecated. Intel oneAPI Math Kernel Library 2025.0 will require Intel(R) Advanced Vector Extensions (Intel(R) AVX) instructions.\n"
     ]
    }
   ],
   "source": [
    "import pandas as pd\n",
    "import itertools"
   ]
  },
  {
   "cell_type": "markdown",
   "metadata": {},
   "source": [
    "### Importing data"
   ]
  },
  {
   "cell_type": "code",
   "execution_count": 2,
   "metadata": {},
   "outputs": [],
   "source": [
    "data_1 = pd.read_csv('raw_data/data_1.csv', usecols=['measure_name', 'location_name', 'sex_name', 'age_name', 'year', 'val'])\n",
    "data_2 = pd.read_csv('raw_data/data_2.csv', usecols=['measure_name', 'location_name', 'sex_name', 'age_name', 'year', 'val'])\n",
    "data_3 = pd.read_csv('raw_data/data_3.csv', usecols=['measure_name', 'location_name', 'sex_name', 'age_name', 'year', 'val'])\n",
    "\n",
    "data = pd.concat([data_1, data_2, data_3])"
   ]
  },
  {
   "cell_type": "markdown",
   "metadata": {},
   "source": [
    "### Cleaning data"
   ]
  },
  {
   "cell_type": "code",
   "execution_count": null,
   "metadata": {},
   "outputs": [],
   "source": [
    "data.loc[data['measure_name'] == 'DALYs (Disability-Adjusted Life Years)', 'measure_name'] = data.loc[data['measure_name'] == 'DALYs (Disability-Adjusted Life Years)', 'measure_name'].str.slice(stop=5)\n",
    "data['age_name'] = data['age_name'].str.replace(' years', '')\n",
    "\n",
    "data = data[~data.duplicated(keep='first')].reset_index(drop=True)\n",
    "\n",
    "absolute = [[x, x+1] for x in list(range(440640, 881280, 6))]\n",
    "absolute = list(itertools.chain.from_iterable(absolute))\n",
    "data.loc[(data['measure_name'] == 'Prevalence') & (data.index.isin(absolute)), 'measure_name'] = 'Prevalence-absolute'\n",
    "\n",
    "percent = [[x, x+1] for x in list(range(440642, 881280, 6))]\n",
    "percent = list(itertools.chain.from_iterable(percent))\n",
    "data.loc[(data['measure_name'] == 'Prevalence') & (data.index.isin(percent)), 'measure_name'] = 'Prevalence-percent'\n",
    "\n",
    "per100k = [[x, x+1] for x in list(range(440644, 881280, 6))]\n",
    "per100k = list(itertools.chain.from_iterable(per100k))\n",
    "data.loc[(data['measure_name'] == 'Prevalence') & (data.index.isin(per100k)), 'measure_name'] = 'Prevalence-per100k'"
   ]
  },
  {
   "cell_type": "code",
   "execution_count": null,
   "metadata": {},
   "outputs": [],
   "source": [
    "# data_dalys = data[data['measure_name'] == 'DALYs'].pivot(index=['location_name', 'sex_name', 'age_name', 'year'], columns='measure_name', values='val').reset_index().rename_axis('index', axis=1).rename(columns={'location_name': 'country', 'sex_name': 'sex', 'age_name': 'age'})\n",
    "# data_incidence = data[data['measure_name'] == 'Incidence'].pivot(index=['location_name', 'sex_name', 'age_name', 'year'], columns='measure_name', values='val').reset_index().rename_axis('index', axis=1).rename(columns={'location_name': 'country', 'sex_name': 'sex', 'age_name': 'age'})\n",
    "\n",
    "prevalence_absolute = data[data['measure_name'] == 'Prevalence-absolute']\n",
    "prevalence_absolute = (\n",
    "    prevalence_absolute\n",
    "    .reset_index(drop=True)\n",
    "    .drop('measure_name', axis=1)\n",
    "    .rename(columns={'location_name': 'country', 'sex_name': 'sex', 'age_name': 'age', 'val': 'prevalence_abs'})\n",
    "    )\n",
    "\n",
    "prevalence_percent = data[data['measure_name'] == 'Prevalence-percent']\n",
    "prevalence_percent = (\n",
    "    prevalence_percent\n",
    "    .reset_index(drop=True)\n",
    "    .drop('measure_name', axis=1)\n",
    "    .rename(columns={'location_name': 'country', 'sex_name': 'sex', 'age_name': 'age', 'val': 'prevalence_pct'})\n",
    "    )\n",
    "\n",
    "prevalence_per100k = data[data['measure_name'] == 'Prevalence-per100k']\n",
    "prevalence_per100k = (\n",
    "    prevalence_per100k\n",
    "    .reset_index(drop=True)\n",
    "    .drop('measure_name', axis=1)\n",
    "    .rename(columns={'location_name': 'country', 'sex_name': 'sex', 'age_name': 'age', 'val': 'prevalence_per100k'})\n",
    "    )"
   ]
  }
 ],
 "metadata": {
  "kernelspec": {
   "display_name": "worldwide_autism_burden",
   "language": "python",
   "name": "python3"
  },
  "language_info": {
   "codemirror_mode": {
    "name": "ipython",
    "version": 3
   },
   "file_extension": ".py",
   "mimetype": "text/x-python",
   "name": "python",
   "nbconvert_exporter": "python",
   "pygments_lexer": "ipython3",
   "version": "3.9.17"
  },
  "orig_nbformat": 4
 },
 "nbformat": 4,
 "nbformat_minor": 2
}

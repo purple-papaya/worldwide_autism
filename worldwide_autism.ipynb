{
 "cells": [
  {
   "cell_type": "markdown",
   "metadata": {},
   "source": [
    "# Worldwide Autism Burden"
   ]
  },
  {
   "cell_type": "code",
   "execution_count": 1,
   "metadata": {},
   "outputs": [
    {
     "name": "stdout",
     "output_type": "stream",
     "text": [
      "Intel MKL WARNING: Support of Intel(R) Streaming SIMD Extensions 4.2 (Intel(R) SSE4.2) enabled only processors has been deprecated. Intel oneAPI Math Kernel Library 2025.0 will require Intel(R) Advanced Vector Extensions (Intel(R) AVX) instructions.\n",
      "Intel MKL WARNING: Support of Intel(R) Streaming SIMD Extensions 4.2 (Intel(R) SSE4.2) enabled only processors has been deprecated. Intel oneAPI Math Kernel Library 2025.0 will require Intel(R) Advanced Vector Extensions (Intel(R) AVX) instructions.\n"
     ]
    }
   ],
   "source": [
    "import pandas as pd"
   ]
  },
  {
   "cell_type": "markdown",
   "metadata": {},
   "source": [
    "### Importing data"
   ]
  },
  {
   "cell_type": "code",
   "execution_count": 2,
   "metadata": {},
   "outputs": [],
   "source": [
    "data_1 = pd.read_csv('raw_data/data_1.csv', usecols=['measure_name', 'location_name', 'sex_name', 'age_name', 'year', 'val', 'upper', 'lower'])\n",
    "data_2 = pd.read_csv('raw_data/data_2.csv', usecols=['measure_name', 'location_name', 'sex_name', 'age_name', 'year', 'val', 'upper', 'lower'])\n",
    "data_3 = pd.read_csv('raw_data/data_3.csv', usecols=['measure_name', 'location_name', 'sex_name', 'age_name', 'year', 'val', 'upper', 'lower'])\n",
    "\n",
    "data = pd.concat([data_1, data_2, data_3])\n",
    "\n",
    "population = pd.read_csv('raw_data/population.csv', names=['country', 'year', 'sex', 'age', 'population', 'random'], usecols=['country', 'year', 'sex', 'age', 'population'], skiprows=1)"
   ]
  },
  {
   "cell_type": "markdown",
   "metadata": {},
   "source": [
    "### Cleaning data"
   ]
  },
  {
   "cell_type": "code",
   "execution_count": 3,
   "metadata": {},
   "outputs": [],
   "source": [
    "data.loc[data['measure_name'] == 'DALYs (Disability-Adjusted Life Years)', 'measure_name'] = data.loc[data['measure_name'] == 'DALYs (Disability-Adjusted Life Years)', 'measure_name'].str.slice(stop=6)\n",
    "data['age_name'] = data['age_name'].str.replace('years', '')\n",
    "data[['val', 'upper', 'lower']] = data[['val', 'upper', 'lower']].round(2)\n",
    "\n",
    "data = data[~data.duplicated(keep='first')].reset_index(drop=True)"
   ]
  },
  {
   "cell_type": "code",
   "execution_count": 4,
   "metadata": {},
   "outputs": [
    {
     "data": {
      "text/html": [
       "<div>\n",
       "<style scoped>\n",
       "    .dataframe tbody tr th:only-of-type {\n",
       "        vertical-align: middle;\n",
       "    }\n",
       "\n",
       "    .dataframe tbody tr th {\n",
       "        vertical-align: top;\n",
       "    }\n",
       "\n",
       "    .dataframe thead th {\n",
       "        text-align: right;\n",
       "    }\n",
       "</style>\n",
       "<table border=\"1\" class=\"dataframe\">\n",
       "  <thead>\n",
       "    <tr style=\"text-align: right;\">\n",
       "      <th></th>\n",
       "      <th>country</th>\n",
       "      <th>year</th>\n",
       "      <th>sex</th>\n",
       "      <th>age</th>\n",
       "      <th>population</th>\n",
       "    </tr>\n",
       "  </thead>\n",
       "  <tbody>\n",
       "    <tr>\n",
       "      <th>1255</th>\n",
       "      <td>Åland Islands</td>\n",
       "      <td>2019</td>\n",
       "      <td>Both Sexes</td>\n",
       "      <td>Total</td>\n",
       "      <td>29836.5</td>\n",
       "    </tr>\n",
       "    <tr>\n",
       "      <th>1256</th>\n",
       "      <td>Åland Islands</td>\n",
       "      <td>2019</td>\n",
       "      <td>Both Sexes</td>\n",
       "      <td>0</td>\n",
       "      <td>278.0</td>\n",
       "    </tr>\n",
       "    <tr>\n",
       "      <th>1257</th>\n",
       "      <td>Åland Islands</td>\n",
       "      <td>2019</td>\n",
       "      <td>Both Sexes</td>\n",
       "      <td>0 - 4</td>\n",
       "      <td>1541.5</td>\n",
       "    </tr>\n",
       "    <tr>\n",
       "      <th>1258</th>\n",
       "      <td>Åland Islands</td>\n",
       "      <td>2019</td>\n",
       "      <td>Both Sexes</td>\n",
       "      <td>1</td>\n",
       "      <td>292.0</td>\n",
       "    </tr>\n",
       "    <tr>\n",
       "      <th>1259</th>\n",
       "      <td>Åland Islands</td>\n",
       "      <td>2019</td>\n",
       "      <td>Both Sexes</td>\n",
       "      <td>1 - 4</td>\n",
       "      <td>1263.5</td>\n",
       "    </tr>\n",
       "    <tr>\n",
       "      <th>...</th>\n",
       "      <td>...</td>\n",
       "      <td>...</td>\n",
       "      <td>...</td>\n",
       "      <td>...</td>\n",
       "      <td>...</td>\n",
       "    </tr>\n",
       "    <tr>\n",
       "      <th>91411</th>\n",
       "      <td>Australia</td>\n",
       "      <td>1990</td>\n",
       "      <td>Female</td>\n",
       "      <td>80 - 84</td>\n",
       "      <td>141394.0</td>\n",
       "    </tr>\n",
       "    <tr>\n",
       "      <th>91412</th>\n",
       "      <td>Australia</td>\n",
       "      <td>1990</td>\n",
       "      <td>Female</td>\n",
       "      <td>85 - 89</td>\n",
       "      <td>72696.0</td>\n",
       "    </tr>\n",
       "    <tr>\n",
       "      <th>91413</th>\n",
       "      <td>Australia</td>\n",
       "      <td>1990</td>\n",
       "      <td>Female</td>\n",
       "      <td>90 - 94</td>\n",
       "      <td>28403.0</td>\n",
       "    </tr>\n",
       "    <tr>\n",
       "      <th>91414</th>\n",
       "      <td>Australia</td>\n",
       "      <td>1990</td>\n",
       "      <td>Female</td>\n",
       "      <td>95 +</td>\n",
       "      <td>8024.0</td>\n",
       "    </tr>\n",
       "    <tr>\n",
       "      <th>91415</th>\n",
       "      <td>Australia</td>\n",
       "      <td>1990</td>\n",
       "      <td>Female</td>\n",
       "      <td>Unknown</td>\n",
       "      <td>0.0</td>\n",
       "    </tr>\n",
       "  </tbody>\n",
       "</table>\n",
       "<p>4987 rows × 5 columns</p>\n",
       "</div>"
      ],
      "text/plain": [
       "             country  year         sex      age  population\n",
       "1255   Åland Islands  2019  Both Sexes    Total     29836.5\n",
       "1256   Åland Islands  2019  Both Sexes        0       278.0\n",
       "1257   Åland Islands  2019  Both Sexes    0 - 4      1541.5\n",
       "1258   Åland Islands  2019  Both Sexes        1       292.0\n",
       "1259   Åland Islands  2019  Both Sexes    1 - 4      1263.5\n",
       "...              ...   ...         ...      ...         ...\n",
       "91411      Australia  1990      Female  80 - 84    141394.0\n",
       "91412      Australia  1990      Female  85 - 89     72696.0\n",
       "91413      Australia  1990      Female  90 - 94     28403.0\n",
       "91414      Australia  1990      Female     95 +      8024.0\n",
       "91415      Australia  1990      Female  Unknown         0.0\n",
       "\n",
       "[4987 rows x 5 columns]"
      ]
     },
     "execution_count": 4,
     "metadata": {},
     "output_type": "execute_result"
    }
   ],
   "source": [
    "population = population.loc[population['year'].str.isdigit()]\n",
    "population['year'] = population['year'].astype(int)\n",
    "population = population.loc[population['year'].isin([1990,2019])]\n",
    "\n",
    "population[population['sex'] == 'Both Sexes'] = population[population['age'] == 'Total']\n",
    "population = population.dropna().reset_index()\n",
    "\n",
    "population = population[~(population['age'] == 'Unknown')]"
   ]
  }
 ],
 "metadata": {
  "kernelspec": {
   "display_name": "worldwide_autism_burden",
   "language": "python",
   "name": "python3"
  },
  "language_info": {
   "codemirror_mode": {
    "name": "ipython",
    "version": 3
   },
   "file_extension": ".py",
   "mimetype": "text/x-python",
   "name": "python",
   "nbconvert_exporter": "python",
   "pygments_lexer": "ipython3",
   "version": "3.9.17"
  },
  "orig_nbformat": 4
 },
 "nbformat": 4,
 "nbformat_minor": 2
}

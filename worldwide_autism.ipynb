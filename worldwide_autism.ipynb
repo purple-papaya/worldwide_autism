{
 "cells": [
  {
   "cell_type": "markdown",
   "metadata": {},
   "source": [
    "# Worldwide Autism Burden"
   ]
  },
  {
   "cell_type": "code",
   "execution_count": 1,
   "metadata": {},
   "outputs": [
    {
     "name": "stdout",
     "output_type": "stream",
     "text": [
      "Intel MKL WARNING: Support of Intel(R) Streaming SIMD Extensions 4.2 (Intel(R) SSE4.2) enabled only processors has been deprecated. Intel oneAPI Math Kernel Library 2025.0 will require Intel(R) Advanced Vector Extensions (Intel(R) AVX) instructions.\n",
      "Intel MKL WARNING: Support of Intel(R) Streaming SIMD Extensions 4.2 (Intel(R) SSE4.2) enabled only processors has been deprecated. Intel oneAPI Math Kernel Library 2025.0 will require Intel(R) Advanced Vector Extensions (Intel(R) AVX) instructions.\n"
     ]
    }
   ],
   "source": [
    "import pandas as pd"
   ]
  },
  {
   "cell_type": "markdown",
   "metadata": {},
   "source": [
    "### Importing data"
   ]
  },
  {
   "cell_type": "code",
   "execution_count": 2,
   "metadata": {},
   "outputs": [],
   "source": [
    "prevalence_abs = pd.read_csv('raw_data/prevalence_abs.csv').drop(['measure', 'metric', 'cause', 'upper', 'lower'], axis=1).rename({'val': 'prevalence_abs'}, axis=1)\n",
    "prevalence_pct = pd.read_csv('raw_data/prevalence_pct.csv').drop(['measure', 'metric', 'cause', 'upper', 'lower'], axis=1).rename({'val': 'prevalence_pct'}, axis=1)\n",
    "prevalence_rate = pd.read_csv('raw_data/prevalence_rate.csv').drop(['measure', 'metric', 'cause', 'upper', 'lower'], axis=1).rename({'val': 'prevalence_rate'}, axis=1)"
   ]
  },
  {
   "cell_type": "code",
   "execution_count": 3,
   "metadata": {},
   "outputs": [],
   "source": [
    "prevalence_abs = prevalence_abs.reset_index().pivot(index=['location', 'age', 'year'], columns=['sex'], values='prevalence_abs').reset_index().rename({'Female': 'female', 'Male': 'male'}, axis=1)\n",
    "prevalence_pct = prevalence_pct.reset_index().pivot(index=['location', 'age', 'year'], columns=['sex'], values='prevalence_pct').reset_index().rename({'Female': 'female', 'Male': 'male'}, axis=1)\n",
    "prevalence_rate = prevalence_rate.reset_index().pivot(index=['location', 'age', 'year'], columns=['sex'], values='prevalence_rate').reset_index().rename({'Female': 'female', 'Male': 'male'}, axis=1)\n",
    "\n"
   ]
  },
  {
   "cell_type": "markdown",
   "metadata": {},
   "source": [
    "### Cleaning data"
   ]
  },
  {
   "cell_type": "code",
   "execution_count": 4,
   "metadata": {},
   "outputs": [],
   "source": [
    "prevalence_abs['age'] = prevalence_abs['age'].str.replace(' years', '')\n",
    "prevalence_pct['age'] = prevalence_pct['age'].str.replace(' years', '')\n",
    "prevalence_rate['age'] = prevalence_rate['age'].str.replace(' years', '')"
   ]
  },
  {
   "cell_type": "markdown",
   "metadata": {},
   "source": [
    "### Exploratory Analysis"
   ]
  },
  {
   "cell_type": "code",
   "execution_count": null,
   "metadata": {},
   "outputs": [],
   "source": []
  }
 ],
 "metadata": {
  "kernelspec": {
   "display_name": "worldwide_autism_burden",
   "language": "python",
   "name": "python3"
  },
  "language_info": {
   "codemirror_mode": {
    "name": "ipython",
    "version": 3
   },
   "file_extension": ".py",
   "mimetype": "text/x-python",
   "name": "python",
   "nbconvert_exporter": "python",
   "pygments_lexer": "ipython3",
   "version": "3.9.17"
  },
  "orig_nbformat": 4
 },
 "nbformat": 4,
 "nbformat_minor": 2
}

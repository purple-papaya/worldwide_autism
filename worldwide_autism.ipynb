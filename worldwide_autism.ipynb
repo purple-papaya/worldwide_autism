{
 "cells": [
  {
   "cell_type": "markdown",
   "metadata": {},
   "source": [
    "# Worldwide Autism Burden"
   ]
  },
  {
   "cell_type": "code",
   "execution_count": null,
   "metadata": {},
   "outputs": [],
   "source": [
    "import pandas as pd\n",
    "\n",
    "import seaborn as sns\n",
    "import matplotlib.pyplot as plt"
   ]
  },
  {
   "cell_type": "markdown",
   "metadata": {},
   "source": [
    "### Importing data"
   ]
  },
  {
   "cell_type": "code",
   "execution_count": null,
   "metadata": {},
   "outputs": [],
   "source": [
    "prevalence_abs = pd.read_csv('prevalence_abs.csv').drop(['measure', 'metric', 'cause', 'upper', 'lower'], axis=1).rename({'val': 'prevalence_abs'}, axis=1)\n",
    "prevalence_pct = pd.read_csv('prevalence_pct.csv').drop(['measure', 'metric', 'cause', 'upper', 'lower'], axis=1).rename({'val': 'prevalence_pct'}, axis=1)\n",
    "prevalence_rate = pd.read_csv('prevalence_rate.csv').drop(['measure', 'metric', 'cause', 'upper', 'lower'], axis=1).rename({'val': 'prevalence_rate'}, axis=1)"
   ]
  },
  {
   "cell_type": "code",
   "execution_count": null,
   "metadata": {},
   "outputs": [],
   "source": [
    "prevalence_abs = prevalence_abs.reset_index().pivot(index=['location', 'age', 'year'], columns=['sex'], values='prevalence_abs').reset_index().rename({'Female': 'female', 'Male': 'male'}, axis=1)\n",
    "prevalence_pct = prevalence_pct.reset_index().pivot(index=['location', 'age', 'year'], columns=['sex'], values='prevalence_pct').reset_index().rename({'Female': 'female', 'Male': 'male'}, axis=1)\n",
    "prevalence_rate = prevalence_rate.reset_index().pivot(index=['location', 'age', 'year'], columns=['sex'], values='prevalence_rate').reset_index().rename({'Female': 'female', 'Male': 'male'}, axis=1)\n",
    "\n"
   ]
  },
  {
   "cell_type": "markdown",
   "metadata": {},
   "source": [
    "### Cleaning data"
   ]
  },
  {
   "cell_type": "code",
   "execution_count": null,
   "metadata": {},
   "outputs": [],
   "source": [
    "prevalence_abs['age'] = prevalence_abs['age'].str.replace(' years', '')\n",
    "prevalence_pct['age'] = prevalence_pct['age'].str.replace(' years', '')\n",
    "prevalence_rate['age'] = prevalence_rate['age'].str.replace(' years', '')"
   ]
  },
  {
   "cell_type": "markdown",
   "metadata": {},
   "source": [
    "### Exploratory Analysis"
   ]
  },
  {
   "cell_type": "code",
   "execution_count": null,
   "metadata": {},
   "outputs": [],
   "source": [
    "print(prevalence_abs.info())\n",
    "print('===================')\n",
    "print(prevalence_pct.info())\n",
    "print('===================')\n",
    "print(prevalence_pct.info())"
   ]
  },
  {
   "cell_type": "code",
   "execution_count": null,
   "metadata": {},
   "outputs": [],
   "source": [
    "print(prevalence_abs.describe())\n",
    "print('===================')\n",
    "print(prevalence_pct.describe())\n",
    "print('===================')\n",
    "print(prevalence_rate.describe())"
   ]
  },
  {
   "cell_type": "code",
   "execution_count": null,
   "metadata": {},
   "outputs": [],
   "source": [
    "sns.boxplot(data=prevalence_abs, y='female', sym='')\n",
    "plt.title('Distribution of absolute prevalence of ASD for females')\n",
    "plt.xlabel('female')\n",
    "plt.ylabel('absolute prevalence')\n",
    "plt.show()"
   ]
  },
  {
   "cell_type": "code",
   "execution_count": null,
   "metadata": {},
   "outputs": [],
   "source": [
    "sns.boxplot(data=prevalence_abs, y='male', sym='')\n",
    "plt.title('Distribution of absolute prevalence of ASD for males')\n",
    "plt.xlabel('male')\n",
    "plt.ylabel('absolute prevalence')\n",
    "plt.show()"
   ]
  },
  {
   "cell_type": "code",
   "execution_count": null,
   "metadata": {},
   "outputs": [],
   "source": [
    "sns.boxplot(data=prevalence_abs, y='female', x='age', sym='')\n",
    "plt.title('Distribution of absolute prevalence of ASD per age category for females')\n",
    "plt.xlabel('female')\n",
    "plt.ylabel('absolute prevalence')\n",
    "plt.show()"
   ]
  },
  {
   "cell_type": "code",
   "execution_count": null,
   "metadata": {},
   "outputs": [],
   "source": [
    "sns.boxplot(data=prevalence_abs, y='male', x='age', sym='')\n",
    "plt.title('Distribution of absolute prevalence of ASD per age category for males')\n",
    "plt.xlabel('male')\n",
    "plt.ylabel('absolute prevalence')\n",
    "plt.show()"
   ]
  },
  {
   "cell_type": "code",
   "execution_count": null,
   "metadata": {},
   "outputs": [],
   "source": [
    "sns.boxplot(data=prevalence_abs, y='female', x='year', sym='')\n",
    "plt.title('Distribution of absolute prevalence of ASD per year for females')\n",
    "plt.xlabel('year')\n",
    "plt.xticks(rotation=45)\n",
    "plt.ylabel('absolute prevalence')\n",
    "plt.show()"
   ]
  },
  {
   "cell_type": "code",
   "execution_count": null,
   "metadata": {},
   "outputs": [],
   "source": [
    "sns.boxplot(data=prevalence_abs, y='male', x='year', sym='')\n",
    "plt.title('Distribution of absolute prevalence of ASD per year for males')\n",
    "plt.xlabel('year')\n",
    "plt.xticks(rotation=45)\n",
    "plt.ylabel('absolute prevalence')\n",
    "plt.show()"
   ]
  },
  {
   "cell_type": "code",
   "execution_count": null,
   "metadata": {},
   "outputs": [],
   "source": [
    "total_abs = prevalence_abs[prevalence_abs['year'] == 2019].groupby(['location'])[['female', 'male']].sum()"
   ]
  },
  {
   "cell_type": "code",
   "execution_count": null,
   "metadata": {},
   "outputs": [],
   "source": [
    "total_abs_females = total_abs.sort_values('female', ascending=False).head(10)\n",
    "total_abs_males = total_abs.sort_values('male', ascending=False).head(10)"
   ]
  },
  {
   "cell_type": "code",
   "execution_count": null,
   "metadata": {},
   "outputs": [],
   "source": [
    "sns.barplot(data=total_abs_females, x='location', y='female')\n",
    "plt.title('Countries with highest absolute prevalence of ASD in females in 2019')\n",
    "plt.xlabel('country')\n",
    "plt.xticks(rotation=90)\n",
    "plt.ylabel('absolute prevalence')\n",
    "plt.show()"
   ]
  },
  {
   "cell_type": "code",
   "execution_count": null,
   "metadata": {},
   "outputs": [],
   "source": [
    "sns.barplot(data=total_abs_males, x='location', y='male')\n",
    "plt.title('Countries with highest absolute prevalence of ASD in males in 2019')\n",
    "plt.xlabel('country')\n",
    "plt.xticks(rotation=90)\n",
    "plt.ylabel('absolute prevalence')\n",
    "plt.show()"
   ]
  },
  {
   "cell_type": "code",
   "execution_count": null,
   "metadata": {},
   "outputs": [],
   "source": [
    "total_abs_age = prevalence_abs[prevalence_abs['year'] == 2019].groupby(['age'])[['female', 'male']].sum().reset_index()"
   ]
  },
  {
   "cell_type": "code",
   "execution_count": null,
   "metadata": {},
   "outputs": [],
   "source": [
    "sns.barplot(data=total_abs_age, x='age', y='female')\n",
    "plt.title('Absolute prevalence of ASD per age category in females in 2019')\n",
    "plt.ylabel('absolute prevalence')\n",
    "plt.show()"
   ]
  },
  {
   "cell_type": "code",
   "execution_count": null,
   "metadata": {},
   "outputs": [],
   "source": [
    "sns.barplot(data=total_abs_age, x='age', y='male')\n",
    "plt.title('Absolute prevalence of ASD per age category in males in 2019')\n",
    "plt.ylabel('absolute prevalence')\n",
    "plt.show()"
   ]
  },
  {
   "cell_type": "code",
   "execution_count": null,
   "metadata": {},
   "outputs": [],
   "source": [
    "age_year_male = prevalence_abs.groupby(['age', 'year'])[['male']].sum()\n",
    "age_year_female = prevalence_abs.groupby(['age', 'year'])[['female']].sum()"
   ]
  },
  {
   "cell_type": "code",
   "execution_count": null,
   "metadata": {},
   "outputs": [],
   "source": [
    "ax = sns.lineplot(data=age_year_female, x='year', y='female', hue='age')\n",
    "sns.move_legend(ax, \"upper left\", bbox_to_anchor=(1, 1))\n",
    "plt.title('Absolute prevalence of ASD for each year and age category in females')\n",
    "plt.ylabel('Absolute prevalence')\n",
    "plt.show()"
   ]
  },
  {
   "cell_type": "code",
   "execution_count": null,
   "metadata": {},
   "outputs": [],
   "source": [
    "ax = sns.lineplot(data=age_year_male, x='year', y='male', hue='age')\n",
    "sns.move_legend(ax, \"upper left\", bbox_to_anchor=(1, 1))\n",
    "plt.title('Absolute prevalence of ASD for each year and age category in males')\n",
    "plt.ylabel('Absolute prevalence')\n",
    "plt.show()"
   ]
  },
  {
   "cell_type": "code",
   "execution_count": null,
   "metadata": {},
   "outputs": [],
   "source": [
    "total_abs['sex_ratio'] = total_abs['male'] / total_abs['female']\n",
    "\n",
    "total_abs_lowest = total_abs.sort_values('sex_ratio').head(10)\n"
   ]
  },
  {
   "cell_type": "code",
   "execution_count": null,
   "metadata": {},
   "outputs": [],
   "source": [
    "sns.barplot(data=total_abs_lowest, x='location', y='sex_ratio')\n",
    "plt.title('Countries with lowest sex ration (male:female) of ASD in 2019')\n",
    "plt.xlabel('country')\n",
    "plt.xticks(rotation=90)\n",
    "plt.ylabel('sex ratio')\n",
    "plt.show()"
   ]
  },
  {
   "cell_type": "code",
   "execution_count": null,
   "metadata": {},
   "outputs": [],
   "source": [
    "total_abs_highest = total_abs.sort_values('sex_ratio', ascending=False).head(10)"
   ]
  },
  {
   "cell_type": "code",
   "execution_count": null,
   "metadata": {},
   "outputs": [],
   "source": [
    "sns.barplot(data=total_abs_highest, x='location', y='sex_ratio')\n",
    "plt.title('Countries with highest sex ration (male:female) of ASD in 2019')\n",
    "plt.xlabel('country')\n",
    "plt.xticks(rotation=90)\n",
    "plt.ylabel('sex ratio')\n",
    "plt.show()"
   ]
  },
  {
   "cell_type": "code",
   "execution_count": null,
   "metadata": {},
   "outputs": [],
   "source": []
  }
 ],
 "metadata": {
  "kernelspec": {
   "display_name": "worldwide_autism_burden",
   "language": "python",
   "name": "python3"
  },
  "language_info": {
   "codemirror_mode": {
    "name": "ipython",
    "version": 3
   },
   "file_extension": ".py",
   "mimetype": "text/x-python",
   "name": "python",
   "nbconvert_exporter": "python",
   "pygments_lexer": "ipython3",
   "version": "3.9.17"
  },
  "orig_nbformat": 4
 },
 "nbformat": 4,
 "nbformat_minor": 2
}

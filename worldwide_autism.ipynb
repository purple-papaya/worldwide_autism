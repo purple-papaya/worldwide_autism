{
 "cells": [
  {
   "cell_type": "markdown",
   "metadata": {},
   "source": [
    "# Worldwide Autism Burden"
   ]
  },
  {
   "cell_type": "code",
   "execution_count": 1,
   "metadata": {},
   "outputs": [
    {
     "name": "stdout",
     "output_type": "stream",
     "text": [
      "Intel MKL WARNING: Support of Intel(R) Streaming SIMD Extensions 4.2 (Intel(R) SSE4.2) enabled only processors has been deprecated. Intel oneAPI Math Kernel Library 2025.0 will require Intel(R) Advanced Vector Extensions (Intel(R) AVX) instructions.\n",
      "Intel MKL WARNING: Support of Intel(R) Streaming SIMD Extensions 4.2 (Intel(R) SSE4.2) enabled only processors has been deprecated. Intel oneAPI Math Kernel Library 2025.0 will require Intel(R) Advanced Vector Extensions (Intel(R) AVX) instructions.\n"
     ]
    }
   ],
   "source": [
    "import pandas as pd"
   ]
  },
  {
   "cell_type": "markdown",
   "metadata": {},
   "source": [
    "### Importing data"
   ]
  },
  {
   "cell_type": "code",
   "execution_count": 2,
   "metadata": {},
   "outputs": [],
   "source": [
    "data_1 = pd.read_csv('raw_data/data_1.csv', usecols=['measure_name', 'location_name', 'sex_name', 'age_name', 'year', 'val'])\n",
    "data_2 = pd.read_csv('raw_data/data_2.csv', usecols=['measure_name', 'location_name', 'sex_name', 'age_name', 'year', 'val'])\n",
    "data_3 = pd.read_csv('raw_data/data_3.csv', usecols=['measure_name', 'location_name', 'sex_name', 'age_name', 'year', 'val'])\n",
    "\n",
    "data = pd.concat([data_1, data_2, data_3])\n",
    "\n",
    "population = pd.read_csv('raw_data/population.csv', names=['country', 'year', 'sex', 'age', 'population', 'random'], usecols=['country', 'year', 'sex', 'age', 'population'], skiprows=1)"
   ]
  },
  {
   "cell_type": "markdown",
   "metadata": {},
   "source": [
    "### Cleaning data"
   ]
  },
  {
   "cell_type": "code",
   "execution_count": 3,
   "metadata": {},
   "outputs": [],
   "source": [
    "data.loc[data['measure_name'] == 'DALYs (Disability-Adjusted Life Years)', 'measure_name'] = data.loc[data['measure_name'] == 'DALYs (Disability-Adjusted Life Years)', 'measure_name'].str.slice(stop=5)\n",
    "data['age_name'] = data['age_name'].str.replace(' years', '')\n",
    "data['val'] = data['val'].round(2)\n",
    "\n",
    "data = data[~data.duplicated(keep='first')].reset_index(drop=True)"
   ]
  },
  {
   "cell_type": "code",
   "execution_count": 4,
   "metadata": {},
   "outputs": [],
   "source": [
    "population = population[population['year'].str.isdigit()]\n",
    "population['year'] = population['year'].astype(int)\n",
    "population = population[population['year'].isin(list(range(1990,2020)))]\n",
    "\n",
    "population[population['sex'] == 'Both Sexes'] = population[population['age'] == 'Total']\n",
    "\n",
    "population = population[~(population['age'] == 'Unknown')]\n",
    "population['age'] = population['age'].str.replace(' ', '')\n",
    "population = population[population['age'].isin(['0-4', '5-9', '10-14', \n",
    "                                                '15-19', '20-24', '25-29', \n",
    "                                                '30-34', '35-39', '40-44', \n",
    "                                                '45-49', '50-54', '55-59', \n",
    "                                                '60-64', '65-69', '70-74', \n",
    "                                                '75-79', '80+'])]\n",
    "step_1 = [x if x not in ['0-4', '5-9'] else '0-9' for x in population['age']]\n",
    "step_2 = [x if x not in ['10-14', '15-19'] else '10-19' for x in step_1]\n",
    "step_3 = [x if x not in ['60-64', '65-69', '70-74', '75-79'] else '60-79' for x in step_2]\n",
    "population['age'] = step_3\n",
    "population = population.groupby(['country', 'year', 'sex', 'age'])[['population']].sum()\n",
    "\n",
    "population = population.reset_index().dropna()\n",
    "population['year'] = population['year'].astype(int)\n"
   ]
  },
  {
   "cell_type": "code",
   "execution_count": 5,
   "metadata": {},
   "outputs": [],
   "source": [
    "data = data.groupby(['age_name', 'year', 'location_name', 'sex_name', 'measure_name'])[['val']].sum().reset_index()\n",
    "\n",
    "data_dalys = data[data['measure_name'] == 'DALYs'].pivot(index=['location_name', 'sex_name', 'age_name', 'year'], columns='measure_name', values='val').reset_index().rename_axis('index', axis=1)\n",
    "data_incidence = data[data['measure_name'] == 'Incidence'].pivot(index=['location_name', 'sex_name', 'age_name', 'year'], columns='measure_name', values='val').reset_index().rename_axis('index', axis=1)\n",
    "data_prevalence = data[data['measure_name'] == 'Prevalence'].pivot(index=['location_name', 'sex_name', 'age_name', 'year'], columns='measure_name', values='val').reset_index().rename_axis('index', axis=1)"
   ]
  },
  {
   "cell_type": "code",
   "execution_count": null,
   "metadata": {},
   "outputs": [],
   "source": []
  }
 ],
 "metadata": {
  "kernelspec": {
   "display_name": "worldwide_autism_burden",
   "language": "python",
   "name": "python3"
  },
  "language_info": {
   "codemirror_mode": {
    "name": "ipython",
    "version": 3
   },
   "file_extension": ".py",
   "mimetype": "text/x-python",
   "name": "python",
   "nbconvert_exporter": "python",
   "pygments_lexer": "ipython3",
   "version": "3.9.17"
  },
  "orig_nbformat": 4
 },
 "nbformat": 4,
 "nbformat_minor": 2
}
